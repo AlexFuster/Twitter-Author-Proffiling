{
 "cells": [
  {
   "cell_type": "code",
   "execution_count": 1,
   "metadata": {},
   "outputs": [],
   "source": [
    "import os\n",
    "import pandas as pd\n",
    "import numpy as np\n",
    "import re\n",
    "from wordcloud import WordCloud,STOPWORDS\n",
    "import matplotlib.pyplot as plt\n",
    "from nltk.corpus import stopwords"
   ]
  },
  {
   "cell_type": "code",
   "execution_count": 2,
   "metadata": {},
   "outputs": [],
   "source": [
    "reg_expressions={\n",
    "    'Emojis':r'[\\U0001f600-\\U0001f650]',\n",
    "    'hashtags':r\"(?:\\#+[\\w_]+[\\w\\'_\\-]*[\\w_]+)\",\n",
    "    'Mentions':r'(?:@[\\w_]+)',\n",
    "    'URLs':r'http[s]?://(?:[a-z]|[0-9]|[$-_@.&amp;+]|[!*\\(\\),]|(?:%[0-9a-f][0-9a-f]))+',\n",
    "    'RTs':r\"(RT|via)((?:\\b\\W*@\\w+)+)\"\n",
    "}"
   ]
  },
  {
   "cell_type": "code",
   "execution_count": 3,
   "metadata": {},
   "outputs": [
    {
     "name": "stdout",
     "output_type": "stream",
     "text": [
      "(2800, 1) (2800, 6) (2800, 2)\n",
      "(1400, 1) (1400, 6) (1400, 2)\n"
     ]
    }
   ],
   "source": [
    "labels={}\n",
    "df={}\n",
    "tag_df={}\n",
    "for tipo in ['training','test']:\n",
    "    tweets={}\n",
    "    labels[tipo]={}\n",
    "    for doc in os.listdir(tipo):\n",
    "        if 'xml' in doc:\n",
    "            with open(tipo+'/'+doc,'r') as xml_doc:\n",
    "                tweets[doc.strip('.xml')]=' '.join([tweet.replace(']]></document>','') \\\n",
    "                                   for tweet in xml_doc.read().split('<document><![CDATA[')[1:]])\\\n",
    "                .replace('\\n\\t\\t',' || ')\n",
    "        else:\n",
    "            with open(tipo+'/'+doc,'r') as txt_doc:\n",
    "                labels[tipo]=pd.read_csv(txt_doc,sep=':::',header=None,names=['sexo','pais'],engine='python')\n",
    "    \n",
    "    \n",
    "    df[tipo]=pd.DataFrame(list(tweets.values()),index=list(tweets.keys()),columns=['tweets'])\n",
    "    \n",
    "\n",
    "    \n",
    "    tag_df[tipo]={}\n",
    "    for (key,reg_ex) in reg_expressions.items():\n",
    "        aux_list=[]\n",
    "        for index,row in df[tipo].iterrows():\n",
    "            cuenta=re.findall(reg_ex, row['tweets'])\n",
    "            cuenta = len(cuenta)\n",
    "            aux_list.append(cuenta)\n",
    "        aux_list=np.array(aux_list)\n",
    "        tag_df[tipo][key]=aux_list\n",
    "    tag_df[tipo] = pd.DataFrame(tag_df[tipo],index=df[tipo].index)\n",
    "    labels[tipo]=df[tipo].join(labels[tipo],how='inner')[['sexo','pais']]\n",
    "    \n",
    "    max_len=df['training']['tweets'].str.len().max()\n",
    "    tag_df[tipo]['longitud']=df[tipo]['tweets'].str.len()/max_len\n",
    "    print(df[tipo].shape,tag_df[tipo].shape,labels[tipo].shape)"
   ]
  },
  {
   "cell_type": "code",
   "execution_count": null,
   "metadata": {},
   "outputs": [],
   "source": [
    "tag_df_sex={}\n",
    "for sexo in ['male','female']:\n",
    "    text=df['training'].loc[labels['training']['sexo']==sexo,'tweets'].str.cat()\n",
    "    plt.figure(figsize=(16,13))\n",
    "    wc = WordCloud(background_color=\"black\", max_words=10000,\\\n",
    "                   stopwords=stopwords.words('spanish')+['http','https','co'], max_font_size= 40)\n",
    "    wc.generate(text)\n",
    "    plt.imshow(wc)\n",
    "    plt.show()\n",
    "    tag_df_sex[sexo]=pd.concat([tag_df['training'].loc[labels['training']['sexo']==sexo,:].mean(),\\\n",
    "                                tag_df['test'].loc[labels['test']['sexo']==sexo,:].mean()],axis=1).mean(axis=1) \n",
    "    print(sexo,':\\n',tag_df_sex[sexo],'\\n')"
   ]
  },
  {
   "cell_type": "code",
   "execution_count": null,
   "metadata": {},
   "outputs": [],
   "source": [
    "tag_df_pais={}\n",
    "for pais in labels['training']['pais'].value_counts().index:\n",
    "    text=df['training'].loc[labels['training']['pais']==pais,'tweets'].str.cat()\n",
    "    \n",
    "    plt.figure(figsize=(16,13))\n",
    "    wc = WordCloud(background_color=\"black\", max_words=10000,\\\n",
    "                   stopwords=stopwords.words('spanish')+['http','https','co'], max_font_size= 40)\n",
    "    wc.generate(text)\n",
    "    plt.imshow(wc)\n",
    "    plt.show()\n",
    "    \n",
    "    tag_df_pais[pais]=pd.concat([tag_df['training'].loc[labels['training']['pais']==pais,:].mean(),\\\n",
    "                                tag_df['test'].loc[labels['test']['pais']==pais,:].mean()],axis=1).mean(axis=1) \n",
    "    print(pais,':\\n',tag_df_pais[pais],'\\n')"
   ]
  },
  {
   "cell_type": "code",
   "execution_count": null,
   "metadata": {},
   "outputs": [],
   "source": [
    "tag_df_max=pd.concat([tag_df['training'].max(),tag_df['test'].max()],axis=1).max(axis=1)\n",
    "tag_df['training']/=tag_df_max\n",
    "tag_df['test']/=tag_df_max"
   ]
  },
  {
   "cell_type": "code",
   "execution_count": null,
   "metadata": {},
   "outputs": [],
   "source": [
    "from sklearn.naive_bayes import MultinomialNB\n",
    "from nltk.corpus import stopwords\n",
    "from sklearn.feature_extraction.text import TfidfVectorizer\n",
    "from sklearn.svm import LinearSVC, SVC\n",
    "from sklearn.ensemble import RandomForestClassifier\n",
    "\n",
    "models=[\n",
    "    MultinomialNB(),\n",
    "    LinearSVC(),\n",
    "    RandomForestClassifier(100,max_depth=25)\n",
    "]"
   ]
  },
  {
   "cell_type": "code",
   "execution_count": null,
   "metadata": {},
   "outputs": [],
   "source": [
    "y_train={}\n",
    "y_test={}\n",
    "X_train={}\n",
    "X_test={}\n",
    "vectorizers={\n",
    "    'sexo':TfidfVectorizer(analyzer=\"word\", stop_words=stopwords.words('spanish'),\\\n",
    "                           ngram_range=(1,2), max_df=0.9,max_features=10000),\n",
    "    'pais':TfidfVectorizer(analyzer=\"word\",\\\n",
    "                           ngram_range=(1,2),max_features=20000)\n",
    "}\n",
    "\n",
    "for label in ['sexo','pais']:\n",
    "    y_train[label]=labels['training'][label].values\n",
    "    y_test[label]=labels['test'][label].values\n",
    "\n",
    "    tfidfv=vectorizers[label]\n",
    "\n",
    "    X_train[label]=tfidfv.fit_transform(df['training']['tweets'].values)\n",
    "    X_test[label]=tfidfv.transform(df['test']['tweets'].values)\n",
    "\n",
    "    X_train[label] = np.hstack([X_train[label].toarray(),tag_df['training'].values])\n",
    "    X_test[label] = np.hstack([X_test[label].toarray(),tag_df['test'].values])\n",
    " "
   ]
  },
  {
   "cell_type": "code",
   "execution_count": null,
   "metadata": {},
   "outputs": [],
   "source": [
    "predicted={}\n",
    "for model in models:\n",
    "    print(str(model.__class__).split('.')[-1].split(\"'\")[0],':')\n",
    "    for label in ['sexo','pais']:\n",
    "        model.fit(X_train[label],y_train[label].ravel())\n",
    "        predicted[label]=(y_test[label].ravel()==model.predict(X_test[label]))\n",
    "        print('\\t',label,': ',predicted[label].mean())\n",
    "        \n",
    "    print('\\t Joint: ',(predicted['sexo']*predicted['pais']).mean())"
   ]
  }
 ],
 "metadata": {
  "kernelspec": {
   "display_name": "Python 3",
   "language": "python",
   "name": "python3"
  },
  "language_info": {
   "codemirror_mode": {
    "name": "ipython",
    "version": 3
   },
   "file_extension": ".py",
   "mimetype": "text/x-python",
   "name": "python",
   "nbconvert_exporter": "python",
   "pygments_lexer": "ipython3",
   "version": "3.6.5"
  }
 },
 "nbformat": 4,
 "nbformat_minor": 2
}
